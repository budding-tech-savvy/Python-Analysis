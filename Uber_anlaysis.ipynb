{
  "metadata": {
    "kernelspec": {
      "name": "python",
      "display_name": "Python (Pyodide)",
      "language": "python"
    },
    "language_info": {
      "codemirror_mode": {
        "name": "python",
        "version": 3
      },
      "file_extension": ".py",
      "mimetype": "text/x-python",
      "name": "python",
      "nbconvert_exporter": "python",
      "pygments_lexer": "ipython3",
      "version": "3.8"
    }
  },
  "nbformat_minor": 5,
  "nbformat": 4,
  "cells": [
    {
      "id": "1640adb3-325b-4bfd-9634-b484218da8a9",
      "cell_type": "code",
      "source": "import numpy as np\nimport pandas as pd \ndf=pd.read_csv('dataset_2.csv')\ndf.head(10)",
      "metadata": {
        "trusted": true
      },
      "outputs": [
        {
          "execution_count": 116,
          "output_type": "execute_result",
          "data": {
            "text/plain": "      Name  Trips Completed Accept Rate  Supply Hours  Rating\n0    Abdul                1        100%             3     4.8\n1  Abraham               12         83%             5     4.7\n2  Adelina                1        100%             2     4.7\n3   Akilah                1        100%             2     4.9\n4     Alec               21         76%            11     5.0\n5   Alesha                7        100%             4     4.8\n6   Alvaro               17         88%            11     4.6\n7    Andra               16         94%            11     4.6\n8  Augusta               19         84%            11     4.7\n9   Aurora               10         90%             4     4.6",
            "text/html": "<div>\n<style scoped>\n    .dataframe tbody tr th:only-of-type {\n        vertical-align: middle;\n    }\n\n    .dataframe tbody tr th {\n        vertical-align: top;\n    }\n\n    .dataframe thead th {\n        text-align: right;\n    }\n</style>\n<table border=\"1\" class=\"dataframe\">\n  <thead>\n    <tr style=\"text-align: right;\">\n      <th></th>\n      <th>Name</th>\n      <th>Trips Completed</th>\n      <th>Accept Rate</th>\n      <th>Supply Hours</th>\n      <th>Rating</th>\n    </tr>\n  </thead>\n  <tbody>\n    <tr>\n      <th>0</th>\n      <td>Abdul</td>\n      <td>1</td>\n      <td>100%</td>\n      <td>3</td>\n      <td>4.8</td>\n    </tr>\n    <tr>\n      <th>1</th>\n      <td>Abraham</td>\n      <td>12</td>\n      <td>83%</td>\n      <td>5</td>\n      <td>4.7</td>\n    </tr>\n    <tr>\n      <th>2</th>\n      <td>Adelina</td>\n      <td>1</td>\n      <td>100%</td>\n      <td>2</td>\n      <td>4.7</td>\n    </tr>\n    <tr>\n      <th>3</th>\n      <td>Akilah</td>\n      <td>1</td>\n      <td>100%</td>\n      <td>2</td>\n      <td>4.9</td>\n    </tr>\n    <tr>\n      <th>4</th>\n      <td>Alec</td>\n      <td>21</td>\n      <td>76%</td>\n      <td>11</td>\n      <td>5.0</td>\n    </tr>\n    <tr>\n      <th>5</th>\n      <td>Alesha</td>\n      <td>7</td>\n      <td>100%</td>\n      <td>4</td>\n      <td>4.8</td>\n    </tr>\n    <tr>\n      <th>6</th>\n      <td>Alvaro</td>\n      <td>17</td>\n      <td>88%</td>\n      <td>11</td>\n      <td>4.6</td>\n    </tr>\n    <tr>\n      <th>7</th>\n      <td>Andra</td>\n      <td>16</td>\n      <td>94%</td>\n      <td>11</td>\n      <td>4.6</td>\n    </tr>\n    <tr>\n      <th>8</th>\n      <td>Augusta</td>\n      <td>19</td>\n      <td>84%</td>\n      <td>11</td>\n      <td>4.7</td>\n    </tr>\n    <tr>\n      <th>9</th>\n      <td>Aurora</td>\n      <td>10</td>\n      <td>90%</td>\n      <td>4</td>\n      <td>4.6</td>\n    </tr>\n  </tbody>\n</table>\n</div>"
          },
          "metadata": {}
        }
      ],
      "execution_count": 116
    },
    {
      "id": "db3fae76-f594-4eb6-925f-37602d0e827b",
      "cell_type": "code",
      "source": "df.info()",
      "metadata": {
        "trusted": true
      },
      "outputs": [],
      "execution_count": null
    },
    {
      "id": "c21c11a8-489a-4f1e-a641-589102a90fc6",
      "cell_type": "code",
      "source": "df['Accept Rate'] = df['Accept Rate'].str.replace('%', '').astype(float)\n",
      "metadata": {
        "trusted": true
      },
      "outputs": [],
      "execution_count": 67
    },
    {
      "id": "40405e2e-28ab-4f70-8638-3d15c1669e62",
      "cell_type": "code",
      "source": "coditions=df[(df['Supply Hours'] >= 8) & (df['Trips Completed'] >= 10) & (df['Rating'] >= 4.7) &  (df['Accept Rate'] >= 90)]\ncoditions",
      "metadata": {
        "trusted": true
      },
      "outputs": [
        {
          "execution_count": 69,
          "output_type": "execute_result",
          "data": {
            "text/plain": "          Name  Trips Completed  Accept Rate  Supply Hours  Rating\n11       Byron               15        100.0            10     4.9\n12     Carlota               14        100.0             8     5.0\n19    Dannette               14        100.0             9     4.9\n23   Demetrius               14        100.0             9     5.0\n26      Dimple               15        100.0            10     4.9\n32        Emil               12        100.0             9     5.0\n37       Garth               15        100.0            10     5.0\n40        Hanh               14         94.0             9     4.9\n53      Keshia               20        100.0            11     4.8\n57     Latonia               13        100.0             9     5.0\n68      Luanne               12         96.0            11     4.9\n69     Lyndsey               13         94.0            11     4.9\n70     Lynwood               21         95.0            10     5.0\n75         Man               23        100.0            10     5.0\n76      Marica               16         90.0            10     5.0\n84     Natalie               16         94.0             8     4.9\n88        Oren               11         91.0             9     4.8\n92     Phyllis               10         90.0             8     4.8\n95    Salvador               15        100.0            11     4.8\n98     Shandra               14        100.0             8     4.9\n113     Vashti               12         92.0            11     4.9",
            "text/html": "<div>\n<style scoped>\n    .dataframe tbody tr th:only-of-type {\n        vertical-align: middle;\n    }\n\n    .dataframe tbody tr th {\n        vertical-align: top;\n    }\n\n    .dataframe thead th {\n        text-align: right;\n    }\n</style>\n<table border=\"1\" class=\"dataframe\">\n  <thead>\n    <tr style=\"text-align: right;\">\n      <th></th>\n      <th>Name</th>\n      <th>Trips Completed</th>\n      <th>Accept Rate</th>\n      <th>Supply Hours</th>\n      <th>Rating</th>\n    </tr>\n  </thead>\n  <tbody>\n    <tr>\n      <th>11</th>\n      <td>Byron</td>\n      <td>15</td>\n      <td>100.0</td>\n      <td>10</td>\n      <td>4.9</td>\n    </tr>\n    <tr>\n      <th>12</th>\n      <td>Carlota</td>\n      <td>14</td>\n      <td>100.0</td>\n      <td>8</td>\n      <td>5.0</td>\n    </tr>\n    <tr>\n      <th>19</th>\n      <td>Dannette</td>\n      <td>14</td>\n      <td>100.0</td>\n      <td>9</td>\n      <td>4.9</td>\n    </tr>\n    <tr>\n      <th>23</th>\n      <td>Demetrius</td>\n      <td>14</td>\n      <td>100.0</td>\n      <td>9</td>\n      <td>5.0</td>\n    </tr>\n    <tr>\n      <th>26</th>\n      <td>Dimple</td>\n      <td>15</td>\n      <td>100.0</td>\n      <td>10</td>\n      <td>4.9</td>\n    </tr>\n    <tr>\n      <th>32</th>\n      <td>Emil</td>\n      <td>12</td>\n      <td>100.0</td>\n      <td>9</td>\n      <td>5.0</td>\n    </tr>\n    <tr>\n      <th>37</th>\n      <td>Garth</td>\n      <td>15</td>\n      <td>100.0</td>\n      <td>10</td>\n      <td>5.0</td>\n    </tr>\n    <tr>\n      <th>40</th>\n      <td>Hanh</td>\n      <td>14</td>\n      <td>94.0</td>\n      <td>9</td>\n      <td>4.9</td>\n    </tr>\n    <tr>\n      <th>53</th>\n      <td>Keshia</td>\n      <td>20</td>\n      <td>100.0</td>\n      <td>11</td>\n      <td>4.8</td>\n    </tr>\n    <tr>\n      <th>57</th>\n      <td>Latonia</td>\n      <td>13</td>\n      <td>100.0</td>\n      <td>9</td>\n      <td>5.0</td>\n    </tr>\n    <tr>\n      <th>68</th>\n      <td>Luanne</td>\n      <td>12</td>\n      <td>96.0</td>\n      <td>11</td>\n      <td>4.9</td>\n    </tr>\n    <tr>\n      <th>69</th>\n      <td>Lyndsey</td>\n      <td>13</td>\n      <td>94.0</td>\n      <td>11</td>\n      <td>4.9</td>\n    </tr>\n    <tr>\n      <th>70</th>\n      <td>Lynwood</td>\n      <td>21</td>\n      <td>95.0</td>\n      <td>10</td>\n      <td>5.0</td>\n    </tr>\n    <tr>\n      <th>75</th>\n      <td>Man</td>\n      <td>23</td>\n      <td>100.0</td>\n      <td>10</td>\n      <td>5.0</td>\n    </tr>\n    <tr>\n      <th>76</th>\n      <td>Marica</td>\n      <td>16</td>\n      <td>90.0</td>\n      <td>10</td>\n      <td>5.0</td>\n    </tr>\n    <tr>\n      <th>84</th>\n      <td>Natalie</td>\n      <td>16</td>\n      <td>94.0</td>\n      <td>8</td>\n      <td>4.9</td>\n    </tr>\n    <tr>\n      <th>88</th>\n      <td>Oren</td>\n      <td>11</td>\n      <td>91.0</td>\n      <td>9</td>\n      <td>4.8</td>\n    </tr>\n    <tr>\n      <th>92</th>\n      <td>Phyllis</td>\n      <td>10</td>\n      <td>90.0</td>\n      <td>8</td>\n      <td>4.8</td>\n    </tr>\n    <tr>\n      <th>95</th>\n      <td>Salvador</td>\n      <td>15</td>\n      <td>100.0</td>\n      <td>11</td>\n      <td>4.8</td>\n    </tr>\n    <tr>\n      <th>98</th>\n      <td>Shandra</td>\n      <td>14</td>\n      <td>100.0</td>\n      <td>8</td>\n      <td>4.9</td>\n    </tr>\n    <tr>\n      <th>113</th>\n      <td>Vashti</td>\n      <td>12</td>\n      <td>92.0</td>\n      <td>11</td>\n      <td>4.9</td>\n    </tr>\n  </tbody>\n</table>\n</div>"
          },
          "metadata": {}
        }
      ],
      "execution_count": 69
    },
    {
      "id": "8dd97efa-7f0c-4327-9e64-369533211018",
      "cell_type": "code",
      "source": "#How much would the total bonus payout be with Option 1?\ntotallength=len(conditions)\nfinalpayout='$'+str(50*totallength)",
      "metadata": {
        "trusted": true
      },
      "outputs": [],
      "execution_count": 46
    },
    {
      "id": "bb5ff078-e796-4bac-bd26-e83953318f62",
      "cell_type": "code",
      "source": "#How much would the total bonus payout be with option 2?\n\noption_2=df[(df['Trips Completed'] >= 12) & (df['Rating'] >= 4.7)]\ntotal_trips=option_2['Trips Completed'].sum()\ntotalbonuspayout=total_trips*4\nindollar='$'+str(totalbonuspayout)\nindollar",
      "metadata": {
        "trusted": true
      },
      "outputs": [
        {
          "execution_count": 65,
          "output_type": "execute_result",
          "data": {
            "text/plain": "'$2976'"
          },
          "metadata": {}
        }
      ],
      "execution_count": 65
    },
    {
      "id": "456a3fb7-1422-4c6c-a4ed-b34d48a02b00",
      "cell_type": "code",
      "source": "#How many drivers would qualify for a bonus under Option 1 but not under Option 2?\ncondition3=df[(df['Supply Hours'] >= 8) & (df['Trips Completed'] <12) & (df['Rating'] >= 4.7) &  (df['Accept Rate'] >= 90)]\ntotal_name=len(condition3)\ntotal_name\n",
      "metadata": {
        "trusted": true
      },
      "outputs": [
        {
          "execution_count": 81,
          "output_type": "execute_result",
          "data": {
            "text/plain": "2"
          },
          "metadata": {}
        }
      ],
      "execution_count": 81
    },
    {
      "id": "1340b7dd-10de-4568-a383-c66aa1fd928b",
      "cell_type": "code",
      "source": "#What percentages of drivers online completed less than 10 trips, had an acceptance rate of less than 90%, and had a rating of 4.7 or higher?\ncondition4=df[(df['Trips Completed'] <10) & (df['Rating'] >= 4.7) &  (df['Accept Rate'] <90)]\ntotallength1=len(condition4)\ntotallength1\n",
      "metadata": {
        "trusted": true
      },
      "outputs": [
        {
          "execution_count": 87,
          "output_type": "execute_result",
          "data": {
            "text/plain": "13"
          },
          "metadata": {}
        }
      ],
      "execution_count": 87
    },
    {
      "id": "04ca7ab1-78ce-4794-98de-d908ebc100b9",
      "cell_type": "code",
      "source": "totalcount=len(df)\nfinalpercentage=totallength1/totalcount*100\nfinal1=str(finalpercentage)+'%'\nfinal1",
      "metadata": {
        "trusted": true
      },
      "outputs": [
        {
          "execution_count": 92,
          "output_type": "execute_result",
          "data": {
            "text/plain": "'10.92436974789916%'"
          },
          "metadata": {}
        }
      ],
      "execution_count": 92
    },
    {
      "id": "6ff231ff-3aa7-4a20-8825-81b8b0167061",
      "cell_type": "code",
      "source": "#How much money (after expenses) does the taxi driver make per year without partnering with Uber?\ntotalearning=1200*49\n",
      "metadata": {
        "trusted": true
      },
      "outputs": [
        {
          "execution_count": 94,
          "output_type": "execute_result",
          "data": {
            "text/plain": "58800"
          },
          "metadata": {}
        }
      ],
      "execution_count": 94
    },
    {
      "id": "4a45722d-9531-4dca-b5c9-981f99d9a9db",
      "cell_type": "code",
      "source": "totalexpenditure=(49*200)+(12*400)+(49*500)\ntotalexpenditure",
      "metadata": {
        "trusted": true
      },
      "outputs": [
        {
          "execution_count": 95,
          "output_type": "execute_result",
          "data": {
            "text/plain": "39100"
          },
          "metadata": {}
        }
      ],
      "execution_count": 95
    },
    {
      "id": "14e24d92-bea6-46a9-97c3-83b8ba9bcfe9",
      "cell_type": "code",
      "source": "totalsaving=totalearning-totalexpenditure\ntotalsaving",
      "metadata": {
        "trusted": true
      },
      "outputs": [
        {
          "execution_count": 102,
          "output_type": "execute_result",
          "data": {
            "text/plain": "19700"
          },
          "metadata": {}
        }
      ],
      "execution_count": 102
    },
    {
      "id": "af250969-3b55-414f-8c59-7d27b17cd53b",
      "cell_type": "code",
      "source": "profit_margin=totalsaving/totalearning*100\nnumber=round(profit_margin,2)\nPercentage_benefit=str(number)+\"%\"\nPercentage_benefit",
      "metadata": {
        "trusted": true
      },
      "outputs": [
        {
          "execution_count": 115,
          "output_type": "execute_result",
          "data": {
            "text/plain": "'33.5%'"
          },
          "metadata": {}
        }
      ],
      "execution_count": 115
    },
    {
      "id": "46bf3416-9559-418d-b2ef-c686843332c4",
      "cell_type": "code",
      "source": "\"\"\"\nYou are convincing the same driver above to buy a Town Car and partner with Uber. Assuming the new car is 40,000 USD, \nhow much would the driver's gross fares need to \nincrease per week to fully pay for the car in year 1 and maintain the same yearly profit margin as before?\n\"\"\"\ngas_expense=49*200\nincreasedgasexpense=gas_expense*105/100\nincreasedgasexpense\n",
      "metadata": {
        "trusted": true
      },
      "outputs": [
        {
          "execution_count": 142,
          "output_type": "execute_result",
          "data": {
            "text/plain": "10290.0"
          },
          "metadata": {}
        }
      ],
      "execution_count": 142
    },
    {
      "id": "7f2bbcf3-8ce0-49cd-8978-f39149741275",
      "cell_type": "code",
      "source": "insurance_expense=400*12\ndecreased_insurance_expense=insurance_expense*80/100\ndecreased_insurance_expense",
      "metadata": {
        "trusted": true
      },
      "outputs": [
        {
          "execution_count": 125,
          "output_type": "execute_result",
          "data": {
            "text/plain": "3840.0"
          },
          "metadata": {}
        }
      ],
      "execution_count": 125
    },
    {
      "id": "4b729759-0c62-46ad-96ae-8af40bddddce",
      "cell_type": "code",
      "source": "totalearning1=1200*49\ntotalearning1",
      "metadata": {
        "trusted": true
      },
      "outputs": [
        {
          "execution_count": 123,
          "output_type": "execute_result",
          "data": {
            "text/plain": "58800"
          },
          "metadata": {}
        }
      ],
      "execution_count": 123
    },
    {
      "id": "6046ce29-f652-4cf3-aaac-d15c0143591f",
      "cell_type": "code",
      "source": "total_expense_g_c_i=increasedgasexpense+decreased_insurance_expense+40000\ntotal_expense_g_c_i",
      "metadata": {
        "trusted": true
      },
      "outputs": [
        {
          "execution_count": 129,
          "output_type": "execute_result",
          "data": {
            "text/plain": "54130.0"
          },
          "metadata": {}
        }
      ],
      "execution_count": 129
    },
    {
      "id": "f1f2bb56-4a2f-4f8b-935e-3679f54c8e44",
      "cell_type": "code",
      "source": "fare_to_be_increased=(totalearning1-total_expense_g_c_i-totalsaving)/49\nfare_to_be_increased",
      "metadata": {
        "trusted": true
      },
      "outputs": [
        {
          "execution_count": 143,
          "output_type": "execute_result",
          "data": {
            "text/plain": "-306.734693877551"
          },
          "metadata": {}
        }
      ],
      "execution_count": 143
    },
    {
      "id": "48118ea9-cccb-4623-bf52-6b2811b0ba9b",
      "cell_type": "code",
      "source": "fare_in_positive_number=\"$\"+str(round(abs(fare_to_be_increased),1))\nfare_in_positive_number\n",
      "metadata": {
        "trusted": true
      },
      "outputs": [
        {
          "execution_count": 141,
          "output_type": "execute_result",
          "data": {
            "text/plain": "'$306.7'"
          },
          "metadata": {}
        }
      ],
      "execution_count": 141
    },
    {
      "id": "39cb3dca-65e1-43e3-b105-938bd2200951",
      "cell_type": "code",
      "source": "",
      "metadata": {
        "trusted": true
      },
      "outputs": [],
      "execution_count": null
    },
    {
      "id": "3792d9c3-bd2e-4c28-bfb3-074ea2af1ae9",
      "cell_type": "code",
      "source": "",
      "metadata": {
        "trusted": true
      },
      "outputs": [],
      "execution_count": null
    }
  ]
}